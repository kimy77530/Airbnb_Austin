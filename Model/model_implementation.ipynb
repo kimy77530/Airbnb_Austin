{
  "nbformat": 4,
  "nbformat_minor": 0,
  "metadata": {
    "colab": {
      "provenance": []
    },
    "kernelspec": {
      "name": "python3",
      "display_name": "Python 3"
    },
    "language_info": {
      "name": "python"
    }
  },
  "cells": [
    {
      "cell_type": "code",
      "execution_count": null,
      "metadata": {
        "id": "S7siJuhU-m6J"
      },
      "outputs": [],
      "source": [
        "# if necessary import google drive\n",
        "# from google.colab import drive\n",
        "# drive.mount('/content/drive')"
      ]
    },
    {
      "cell_type": "code",
      "source": [],
      "metadata": {
        "id": "_rMgU3XBKh6k"
      },
      "execution_count": null,
      "outputs": []
    },
    {
      "cell_type": "code",
      "source": [
        "# python script imports\n",
        "import dataload_process\n",
        "\n",
        "# package imports\n",
        "import pandas as pd\n",
        "import numpy as np\n",
        "import matplotlib.pyplot as plt\n",
        "\n",
        "from sklearn.linear_model import Lasso, Ridge, ElasticNet\n",
        "from sklearn.ensemble import RandomForestRegressor\n",
        "from sklearn.model_selection import train_test_split, GridSearchCV\n",
        "from sklearn.metrics import mean_squared_error, mean_absolute_error\n",
        "from sklearn.metrics import r2_score\n",
        "from sklearn.preprocessing import StandardScaler\n",
        "from sklearn.preprocessing import LabelEncoder\n",
        "\n",
        "import xgboost as xgb\n"
      ],
      "metadata": {
        "id": "eyQBQt1w-rKd"
      },
      "execution_count": null,
      "outputs": []
    },
    {
      "cell_type": "code",
      "source": [
        "# Set a seed for reproducibility\n",
        "np.random.seed(17)"
      ],
      "metadata": {
        "id": "u0f2IjvNKt-s"
      },
      "execution_count": null,
      "outputs": []
    },
    {
      "cell_type": "markdown",
      "source": [
        "# Load Data"
      ],
      "metadata": {
        "id": "_ZO62O8XLi9N"
      }
    },
    {
      "cell_type": "code",
      "source": [
        "# Define the path to your CSV file\n",
        "# dataset used: https://drive.google.com/file/d/1vrxc_sT68YGYBgI9K15YlKWO7jQX8zu8/view?usp=drive_link\n",
        "file_path = 'path/to/your/data.csv'\n"
      ],
      "metadata": {
        "id": "hkB8mJH60yoD"
      },
      "execution_count": null,
      "outputs": []
    },
    {
      "cell_type": "code",
      "source": [
        "# load dataframe\n",
        "df = pd.read_csv(file_path)"
      ],
      "metadata": {
        "id": "pmg3fqxz1QQj"
      },
      "execution_count": null,
      "outputs": []
    },
    {
      "cell_type": "code",
      "source": [
        "# categorical conlumns to conver to categorical type\n",
        "columns_to_convert = ['neighbourhood_cleansed', 'day_of_week', 'year', 'month']\n",
        "\n",
        "# unnecesary columns\n",
        "columns_to_drop = ['id', 'host_id', 'date']"
      ],
      "metadata": {
        "id": "4IyrVWPd2r39"
      },
      "execution_count": null,
      "outputs": []
    },
    {
      "cell_type": "code",
      "source": [
        "# convert and encode categorical columns from dataload_process.py\n",
        "df = dataload_process.encode_categorical_columns(df, columns_to_convert, columns_to_drop)\n"
      ],
      "metadata": {
        "id": "haeMm2Hu2r6n"
      },
      "execution_count": null,
      "outputs": []
    },
    {
      "cell_type": "code",
      "source": [
        "# split data into seperate X and y dataframes\n",
        "x_df, y = dataload_process.split_data(df, 'price')\n"
      ],
      "metadata": {
        "id": "hQzHekKw2r9U"
      },
      "execution_count": null,
      "outputs": []
    },
    {
      "cell_type": "markdown",
      "source": [
        "# Model implementation"
      ],
      "metadata": {
        "id": "JXkt0qB91wJy"
      }
    },
    {
      "cell_type": "code",
      "source": [
        "# Split the data into train and test sets 80/20\n",
        "X_train, X_test, y_train, y_test = train_test_split(x_df, y, test_size=0.2, random_state=42)\n"
      ],
      "metadata": {
        "id": "shYxhyzFyqkx"
      },
      "execution_count": null,
      "outputs": []
    },
    {
      "cell_type": "code",
      "source": [
        "# Scale the features\n",
        "scaler = StandardScaler()\n",
        "\n",
        "X_train_scaled = scaler.fit_transform(X_train)\n",
        "X_test_scaled = scaler.transform(X_test)"
      ],
      "metadata": {
        "id": "_oppITsCW66v"
      },
      "execution_count": null,
      "outputs": []
    },
    {
      "cell_type": "markdown",
      "metadata": {
        "id": "N7VALEs5XM4I"
      },
      "source": [
        "## Linear Regression with Lasso (L1) regularization"
      ]
    },
    {
      "cell_type": "code",
      "execution_count": null,
      "metadata": {
        "id": "IB4By0WyXLZ7"
      },
      "outputs": [],
      "source": [
        "# Linear Regression with L1 Regularization (Lasso)\n",
        "lasso = Lasso(alpha=0.01,\n",
        "              max_iter=100000,\n",
        "              random_state=17)\n",
        "\n",
        "lasso.fit(X_train_scaled, y_train)\n",
        "\n"
      ]
    },
    {
      "cell_type": "code",
      "execution_count": null,
      "metadata": {
        "id": "WmETMnHgXLcr"
      },
      "outputs": [],
      "source": [
        "# Make predictions\n",
        "lasso_pred = lasso.predict(X_test_scaled)\n",
        "\n",
        "# Calculate RMSE, MAE, and MSE\n",
        "lasso_rmse = np.sqrt(mean_squared_error(y_test, lasso_pred))\n",
        "lasso_mae = mean_absolute_error(y_test, lasso_pred)\n",
        "lasso_mse = mean_squared_error(y_test, lasso_pred)\n",
        "lasso_r2 = r2_score(y_test, lasso_pred)"
      ]
    },
    {
      "cell_type": "code",
      "execution_count": null,
      "metadata": {
        "colab": {
          "base_uri": "https://localhost:8080/"
        },
        "id": "Y1AORh8CXLfZ",
        "outputId": "7f0f095b-666f-4489-e3cb-30772630455a"
      },
      "outputs": [
        {
          "name": "stdout",
          "output_type": "stream",
          "text": [
            "Lasso R-squared: 0.48373092835406806\n",
            "Lasso Mean Squared Error (MSE): 5864.438587338736\n",
            "Lasso Root Mean Squared Error (RMSE): 76.57962253327406\n",
            "Lasso Mean Absolute Error (MAE): 56.693529171604425\n"
          ]
        }
      ],
      "source": [
        "print(\"Lasso R-squared:\", lasso_r2)\n",
        "print('Lasso Mean Squared Error (MSE):', lasso_mse)\n",
        "print('Lasso Root Mean Squared Error (RMSE):', lasso_rmse)\n",
        "print('Lasso Mean Absolute Error (MAE):', lasso_mae)"
      ]
    },
    {
      "cell_type": "markdown",
      "metadata": {
        "id": "nuLgqui7XVC6"
      },
      "source": [
        "## Linear Regression with Ridge (L2) regularization"
      ]
    },
    {
      "cell_type": "code",
      "execution_count": null,
      "metadata": {
        "id": "iNQbaN2LXLiB"
      },
      "outputs": [],
      "source": [
        "# Linear Regression with L2 Regularization (Ridge)\n",
        "ridge = Ridge(alpha=0.01,\n",
        "              max_iter=100000,\n",
        "              random_state=17)\n",
        "\n",
        "ridge.fit(X_train_scaled, y_train)\n"
      ]
    },
    {
      "cell_type": "code",
      "execution_count": null,
      "metadata": {
        "id": "jyVQUHQLXLlB"
      },
      "outputs": [],
      "source": [
        "# Make predictions\n",
        "ridge_pred = ridge.predict(X_test_scaled)\n",
        "\n",
        "# Calculate RMSE, MAE, and MSE\n",
        "ridge_rmse = np.sqrt(mean_squared_error(y_test, ridge_pred))\n",
        "ridge_mae = mean_absolute_error(y_test, ridge_pred)\n",
        "ridge_mse = mean_squared_error(y_test, ridge_pred)\n",
        "ridge_r2 = r2_score(y_test, ridge_pred)"
      ]
    },
    {
      "cell_type": "code",
      "execution_count": null,
      "metadata": {
        "colab": {
          "base_uri": "https://localhost:8080/"
        },
        "id": "1MKHHaWtZx6g",
        "outputId": "7801284d-4e03-49d9-d73a-b7c731f8b798"
      },
      "outputs": [
        {
          "name": "stdout",
          "output_type": "stream",
          "text": [
            "Ridge R-squared: 0.48562282514746724\n",
            "Ridge Mean Squared Error (MSE): 5842.948025211704\n",
            "Ridge Root Mean Squared Error (RMSE): 76.4391786011055\n",
            "Ridge Mean Absolute Error (MAE): 56.55345674728505\n"
          ]
        }
      ],
      "source": [
        "print(\"Ridge R-squared:\", ridge_r2)\n",
        "print('Ridge Mean Squared Error (MSE):', ridge_mse)\n",
        "print('Ridge Root Mean Squared Error (RMSE):', ridge_rmse)\n",
        "print('Ridge Mean Absolute Error (MAE):', ridge_mae)"
      ]
    },
    {
      "cell_type": "markdown",
      "metadata": {
        "id": "4m8_58-vXXuo"
      },
      "source": [
        "## Linear Regression with Elastic Net regularization"
      ]
    },
    {
      "cell_type": "code",
      "execution_count": null,
      "metadata": {
        "id": "Yu6YdJOlaCmb"
      },
      "outputs": [],
      "source": [
        "# Linear Regression with L2 Regularization (Ridge)\n",
        "elastic = ElasticNet(alpha=0.01,\n",
        "                   max_iter=100000,\n",
        "                   random_state=17)\n",
        "\n",
        "elastic.fit(X_train_scaled, y_train)\n"
      ]
    },
    {
      "cell_type": "code",
      "execution_count": null,
      "metadata": {
        "id": "gM41kKYhaCmj"
      },
      "outputs": [],
      "source": [
        "# Make predictions\n",
        "elastic_pred = elastic.predict(X_test_scaled)\n",
        "\n",
        "# Calculate RMSE, MAE, and MSE\n",
        "elastic_rmse = np.sqrt(mean_squared_error(y_test, elastic_pred))\n",
        "elastic_mae = mean_absolute_error(y_test, elastic_pred)\n",
        "elastic_mse = mean_squared_error(y_test, elastic_pred)\n",
        "elastic_r2 = r2_score(y_test, elastic_pred)"
      ]
    },
    {
      "cell_type": "code",
      "execution_count": null,
      "metadata": {
        "colab": {
          "base_uri": "https://localhost:8080/"
        },
        "id": "1t3pYRYUaCmj",
        "outputId": "adc2ebc8-f431-4eb4-c672-7352e5e580a0"
      },
      "outputs": [
        {
          "name": "stdout",
          "output_type": "stream",
          "text": [
            "Elastic R-squared: 0.4795393434701207\n",
            "Elastic Mean Squared Error (MSE): 5912.051922100701\n",
            "Elastic Root Mean Squared Error (RMSE): 76.8898687871211\n",
            "Elastic Mean Absolute Error (MAE): 57.08046197625295\n"
          ]
        }
      ],
      "source": [
        "print(\"Elastic R-squared:\", elastic_r2)\n",
        "print('Elastic Mean Squared Error (MSE):', elastic_mse)\n",
        "print('Elastic Root Mean Squared Error (RMSE):', elastic_rmse)\n",
        "print('Elastic Mean Absolute Error (MAE):', elastic_mae)"
      ]
    },
    {
      "cell_type": "code",
      "execution_count": null,
      "metadata": {
        "id": "gFIQNvvcXbUg"
      },
      "outputs": [],
      "source": []
    },
    {
      "cell_type": "code",
      "execution_count": null,
      "metadata": {
        "id": "_Pp8YhR1XbXJ"
      },
      "outputs": [],
      "source": []
    },
    {
      "cell_type": "markdown",
      "metadata": {
        "id": "ymnJPV_0Xbpg"
      },
      "source": [
        "## Random Forest"
      ]
    },
    {
      "cell_type": "code",
      "execution_count": null,
      "metadata": {
        "id": "qoVY5ImKXfjS"
      },
      "outputs": [],
      "source": [
        "rf_regressor = RandomForestRegressor(random_state=17)\n",
        "\n",
        "# Train the model on the training data\n",
        "rf_regressor.fit(X_train_scaled, y_train)"
      ]
    },
    {
      "cell_type": "code",
      "execution_count": null,
      "metadata": {
        "id": "a9wNuYCHXfl4"
      },
      "outputs": [],
      "source": [
        "# Make predictions on the test data\n",
        "rf_pred = rf_regressor.predict(X_test_scaled)\n",
        "\n",
        "# Evaluate the model's performance\n",
        "rf_mae = mean_absolute_error(y_test, rf_pred)\n",
        "rf_mse = mean_squared_error(y_test, rf_pred)\n",
        "rf_rmse = np.sqrt(rf_mse)\n",
        "rf_r2 = r2_score(y_test, rf_pred)"
      ]
    },
    {
      "cell_type": "code",
      "execution_count": null,
      "metadata": {
        "colab": {
          "base_uri": "https://localhost:8080/"
        },
        "id": "pen5LYkrXfoU",
        "outputId": "b72762fe-5625-4770-ddf5-4c5a8c021af0"
      },
      "outputs": [
        {
          "name": "stdout",
          "output_type": "stream",
          "text": [
            "Random Forest R-squared: 0.7942680907153807\n",
            "Random Forest Mean Squared Error (MSE): 2336.963830913035\n",
            "Random Forest Root Mean Squared Error (RMSE): 48.34215376783533\n",
            "Random Forest Mean Absolute Error (MAE): 29.833846728665524\n"
          ]
        }
      ],
      "source": [
        "print(\"Random Forest R-squared:\", rf_r2)\n",
        "print('Random Forest Mean Squared Error (MSE):', rf_mse)\n",
        "print('Random Forest Root Mean Squared Error (RMSE):', rf_rmse)\n",
        "print('Random Forest Mean Absolute Error (MAE):', rf_mae)\n"
      ]
    },
    {
      "cell_type": "code",
      "execution_count": null,
      "metadata": {
        "id": "rh718T9MXfrU"
      },
      "outputs": [],
      "source": []
    },
    {
      "cell_type": "markdown",
      "metadata": {
        "id": "eXF4xJKXXf2J"
      },
      "source": [
        "## XG Boost"
      ]
    },
    {
      "cell_type": "code",
      "execution_count": null,
      "metadata": {
        "id": "6kEHC4TJXiVo"
      },
      "outputs": [],
      "source": [
        "xg_boost = xgb.XGBRegressor(random_state=17)\n",
        "\n",
        "# Train the model on the training data\n",
        "xg_boost.fit(X_train_scaled, y_train)"
      ]
    },
    {
      "cell_type": "code",
      "execution_count": null,
      "metadata": {
        "id": "2aZEE4bVXiYD"
      },
      "outputs": [],
      "source": [
        "# Make predictions on the test data\n",
        "xgb_pred = xg_boost.predict(X_test_scaled)\n",
        "\n",
        "# Evaluate the model's performance\n",
        "xgb_mae = mean_absolute_error(y_test, xgb_pred)\n",
        "xgb_mse = mean_squared_error(y_test, xgb_pred)\n",
        "xgb_rmse = np.sqrt(xgb_mse)\n",
        "xgb_r2 = r2_score(y_test, xgb_pred)"
      ]
    },
    {
      "cell_type": "code",
      "execution_count": null,
      "metadata": {
        "colab": {
          "base_uri": "https://localhost:8080/"
        },
        "id": "Co9L5_wcXiab",
        "outputId": "64a87b4e-26f6-4f38-827c-e54018ccdd78"
      },
      "outputs": [
        {
          "name": "stdout",
          "output_type": "stream",
          "text": [
            "XG Boost R-squared: 0.7676086453712715\n",
            "XG Boost Mean Squared Error (MSE): 2639.7956071699427\n",
            "XG Boost Root Mean Squared Error (RMSE): 51.37894128113135\n",
            "XG Boost Mean Absolute Error (MAE): 35.054171215149175\n"
          ]
        }
      ],
      "source": [
        "print(\"XG Boost R-squared:\", xgb_r2)\n",
        "print('XG Boost Mean Squared Error (MSE):', xgb_mse)\n",
        "print('XG Boost Root Mean Squared Error (RMSE):', xgb_rmse)\n",
        "print('XG Boost Mean Absolute Error (MAE):', xgb_mae)"
      ]
    },
    {
      "cell_type": "code",
      "execution_count": null,
      "metadata": {
        "id": "_oTfWLiAXic0"
      },
      "outputs": [],
      "source": []
    },
    {
      "cell_type": "code",
      "execution_count": null,
      "metadata": {
        "colab": {
          "base_uri": "https://localhost:8080/"
        },
        "id": "5_o7ISJEXifh",
        "outputId": "a2c40a47-7fee-47cc-a71c-e88d25f9f44c"
      },
      "outputs": [
        {
          "name": "stdout",
          "output_type": "stream",
          "text": [
            "Random Forest\n",
            "RF R-squared: 0.7942680907153807\n",
            "RF Mean Squared Error (MSE): 2336.963830913035\n",
            "RF Root Mean Squared Error (RMSE): 48.34215376783533\n",
            "RF Mean Absolute Error (MAE): 29.833846728665524\n",
            "\n",
            "XG boost\n",
            "XG Boost R-squared: 0.7676086453712715\n",
            "XG Boost Mean Squared Error (MSE): 2639.7956071699427\n",
            "XG Boost Root Mean Squared Error (RMSE): 51.37894128113135\n",
            "XG Boost Mean Absolute Error (MAE): 35.054171215149175\n",
            "\n",
            "Lasso\n",
            "Lasso R-squared: 0.48373092835406806\n",
            "Lasso Mean Squared Error (MSE): 5864.438587338736\n",
            "Lasso Root Mean Squared Error (RMSE): 76.57962253327406\n",
            "Lasso Mean Absolute Error (MAE): 56.693529171604425\n",
            "\n",
            "Ridge\n",
            "Ridge R-squared: 0.48562282514746724\n",
            "Ridge Mean Squared Error (MSE): 5842.948025211704\n",
            "Ridge Root Mean Squared Error (RMSE): 76.4391786011055\n",
            "Ridge Mean Absolute Error (MAE): 56.55345674728505\n",
            "\n",
            "Elastic Net\n",
            "Elastic R-squared: 0.4795393434701207\n",
            "Elastic Mean Squared Error (MSE): 5912.051922100701\n",
            "Elastic Root Mean Squared Error (RMSE): 76.8898687871211\n",
            "Elastic Mean Absolute Error (MAE): 57.08046197625295\n"
          ]
        }
      ],
      "source": [
        "print(\"Random Forest\")\n",
        "print(\"RF R-squared:\", rf_r2)\n",
        "print(\"RF Mean Squared Error (MSE):\", rf_mse)\n",
        "print(\"RF Root Mean Squared Error (RMSE):\", rf_rmse)\n",
        "print(\"RF Mean Absolute Error (MAE):\", rf_mae)\n",
        "\n",
        "print()\n",
        "print(\"XG boost\")\n",
        "print(\"XG Boost R-squared:\", xgb_r2)\n",
        "print('XG Boost Mean Squared Error (MSE):', xgb_mse)\n",
        "print('XG Boost Root Mean Squared Error (RMSE):', xgb_rmse)\n",
        "print('XG Boost Mean Absolute Error (MAE):', xgb_mae)\n",
        "print()\n",
        "print(\"Lasso\")\n",
        "print(\"Lasso R-squared:\", lasso_r2)\n",
        "print('Lasso Mean Squared Error (MSE):', lasso_mse)\n",
        "print('Lasso Root Mean Squared Error (RMSE):', lasso_rmse)\n",
        "print('Lasso Mean Absolute Error (MAE):', lasso_mae)\n",
        "\n",
        "print()\n",
        "print(\"Ridge\")\n",
        "print(\"Ridge R-squared:\", ridge_r2)\n",
        "print('Ridge Mean Squared Error (MSE):', ridge_mse)\n",
        "print('Ridge Root Mean Squared Error (RMSE):', ridge_rmse)\n",
        "print('Ridge Mean Absolute Error (MAE):', ridge_mae)\n",
        "print()\n",
        "print(\"Elastic Net\")\n",
        "print(\"Elastic R-squared:\", elastic_r2)\n",
        "print('Elastic Mean Squared Error (MSE):', elastic_mse)\n",
        "print('Elastic Root Mean Squared Error (RMSE):', elastic_rmse)\n",
        "print('Elastic Mean Absolute Error (MAE):', elastic_mae)"
      ]
    }
  ]
}