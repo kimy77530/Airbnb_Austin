{
 "cells": [
  {
   "cell_type": "code",
   "execution_count": null,
   "metadata": {
    "id": "PBWYms-c0yiZ"
   },
   "outputs": [],
   "source": [
    "# import google drive if necessary\n",
    "# from google.colab import drive\n",
    "# drive.mount('/content/drive')"
   ]
  },
  {
   "cell_type": "code",
   "execution_count": null,
   "metadata": {
    "id": "XcHSkSCRyoNI"
   },
   "outputs": [],
   "source": [
    "# python script imports\n",
    "import dataload_process\n",
    "import forward_selection\n",
    "\n",
    "# package imports\n",
    "import pandas as pd\n",
    "from sklearn.model_selection import train_test_split\n"
   ]
  },
  {
   "cell_type": "code",
   "execution_count": null,
   "metadata": {
    "id": "5xrotgQ00ylc"
   },
   "outputs": [],
   "source": [
    "# Set a seed for reproducibility\n",
    "np.random.seed(17)"
   ]
  },
  {
   "cell_type": "markdown",
   "metadata": {
    "id": "5jQAVvwz3Vau"
   },
   "source": [
    "# Load Data"
   ]
  },
  {
   "cell_type": "code",
   "execution_count": null,
   "metadata": {
    "id": "hkB8mJH60yoD"
   },
   "outputs": [],
   "source": [
    "# Define the path to your CSV file\n",
    "file_path = 'path/to/your/data.csv'\n"
   ]
  },
  {
   "cell_type": "code",
   "execution_count": null,
   "metadata": {
    "id": "pmg3fqxz1QQj"
   },
   "outputs": [],
   "source": [
    "# load dataframe\n",
    "# dataset used: https://drive.google.com/file/d/1vrxc_sT68YGYBgI9K15YlKWO7jQX8zu8/view?usp=drive_link\n",
    "df = pd.read_csv(file_path)"
   ]
  },
  {
   "cell_type": "code",
   "execution_count": null,
   "metadata": {
    "id": "4IyrVWPd2r39"
   },
   "outputs": [],
   "source": [
    "# categorical conlumns to conver to categorical type\n",
    "columns_to_convert = ['neighbourhood_cleansed', 'day_of_week', 'year', 'month']\n",
    "\n",
    "# unnecesary columns\n",
    "columns_to_drop = ['id', 'host_id', 'date']"
   ]
  },
  {
   "cell_type": "code",
   "execution_count": null,
   "metadata": {
    "id": "haeMm2Hu2r6n"
   },
   "outputs": [],
   "source": [
    "# convert and encode categorical columns from dataload_process.py\n",
    "df = dataload_process.encode_categorical_columns(df, columns_to_convert, columns_to_drop)\n"
   ]
  },
  {
   "cell_type": "code",
   "execution_count": null,
   "metadata": {
    "id": "hQzHekKw2r9U"
   },
   "outputs": [],
   "source": [
    "# split data into seperate X and y dataframes\n",
    "x_df, y = dataload_process.split_data(df, 'price')\n"
   ]
  },
  {
   "cell_type": "code",
   "execution_count": null,
   "metadata": {
    "id": "shYxhyzFyqkx"
   },
   "outputs": [],
   "source": [
    "# Split the data into train and test sets 80/20\n",
    "X_train, X_test, y_train, y_test = train_test_split(x_df, y, test_size=0.2, random_state=42)\n"
   ]
  },
  {
   "cell_type": "markdown",
   "metadata": {
    "id": "sODJtoV-3ReU"
   },
   "source": [
    "# Initialized Forward Selection"
   ]
  },
  {
   "cell_type": "code",
   "execution_count": null,
   "metadata": {
    "colab": {
     "base_uri": "https://localhost:8080/"
    },
    "id": "iUAN8eI1R3F8",
    "outputId": "1a7fb58b-9b6c-4593-be74-6a325dbee640"
   },
   "outputs": [
    {
     "name": "stdout",
     "output_type": "stream",
     "text": [
      "[15, 90, 11, 29, 25, 34, 2, 14, 0, 13, 82, 83, 80, 76, 86, 66, 55, 91, 67, 1, 10, 32, 37, 51, 28, 42, 36, 54, 44, 71, 31, 23, 20, 17, 85, 74, 18, 87, 39, 40, 58, 62, 22, 41, 50, 38, 16, 75, 8, 81, 77, 78, 79, 46, 35, 26, 43, 48, 6, 19, 61, 7, 70, 65, 24, 56, 64, 30, 89, 59, 57, 69, 63, 9, 84, 12, 73, 47, 60, 68, 52, 53, 21, 3, 49]\n"
     ]
    }
   ],
   "source": [
    "# Call the forward_selection function\n",
    "# best_features is a list of indices\n",
    "best_features = forward_selection.forward_selection(X_train, y_train, X_test, y_test)\n",
    "print(\"Best selected feature indices:\",best_features)"
   ]
  },
  {
   "cell_type": "code",
   "execution_count": null,
   "metadata": {
    "colab": {
     "base_uri": "https://localhost:8080/"
    },
    "id": "EgilQQBFX3u_",
    "outputId": "986304c9-efc9-451e-dce8-c592a4b62bae"
   },
   "outputs": [
    {
     "name": "stdout",
     "output_type": "stream",
     "text": [
      "Index(['bedrooms', 'room_type_Private room', 'neighbourhood_cleansed',\n",
      "       'number_of_reviews', 'availability_30', 'review_scores_cleanliness',\n",
      "       'day_of_week', 'accommodates', 'year', 'longitude', 'mex_arte',\n",
      "       'mckinney', 'ut_tower', 'barton_springs', 'museum_weird', 'Dishwasher',\n",
      "       'Hot water', 'room_type_Shared room', 'TV', 'month',\n",
      "       'host_total_listings_count', 'review_scores_rating',\n",
      "       'review_scores_value', 'Fire extinguisher', 'availability_365',\n",
      "       'Number of Amenities', 'review_scores_communication',\n",
      "       'Dishes and silverware', 'Kitchen', 'Coffee maker',\n",
      "       'number_of_reviews_l30d', 'minimum_nights_avg_ntm',\n",
      "       'maximum_minimum_nights', 'minimum_nights', 'bonnell', 'longitudesq',\n",
      "       'maximum_nights', 'review_scores_location', 'reviews_per_month',\n",
      "       'host_since', 'Air conditioning', 'Bed linens',\n",
      "       'maximum_maximum_nights', 'property_type_num', 'Hangers',\n",
      "       'instant_bookable', 'beds', 't_cap', 'host_is_superhost', 'dkr_stadium',\n",
      "       'bullock', 'congress_bridge', 'zilker', 'Essentials',\n",
      "       'review_scores_checkin', 'availability_60', 'Smoke alarm',\n",
      "       'Carbon monoxide alarm', 'compound', 'minimum_minimum_nights',\n",
      "       'Self check-in', 'sentiment_score', 'Free street parking',\n",
      "       'Dedicated workspace', 'maximum_nights_avg_ntm', 'Refrigerator',\n",
      "       'Washer', 'number_of_reviews_ltm', 'room_type_Hotel room',\n",
      "       'Cooking basics', 'Heating', 'Extra pillows and blankets',\n",
      "       'First aid kit', 'host_listings_count', 'umlauf', 'latitude',\n",
      "       'latitudesq', 'Free parking on premises', 'Microwave',\n",
      "       'Private entrance', 'Iron', 'Shampoo', 'minimum_maximum_nights',\n",
      "       'negative', 'Hair dryer'],\n",
      "      dtype='object')\n"
     ]
    }
   ],
   "source": [
    "# get feature names\n",
    "best_names = x_df.columns[best_features]\n",
    "print(\"Best selected features:\", best_names)"
   ]
  },
  {
   "cell_type": "code",
   "execution_count": null,
   "metadata": {
    "id": "-wulnwnu5OzN"
   },
   "outputs": [],
   "source": [
    "# Drop columns not in the list\n",
    "columns_to_drop = [col for col in df.columns if col not in best]\n",
    "\n",
    "#we dont want to remove price feature\n",
    "feature_to_remove = \"price\"\n",
    "\n",
    "if feature_to_remove in columns_to_drop:\n",
    "    columns_to_drop.remove(feature_to_remove)\n",
    "\n",
    "\n",
    "df_filtered = df.drop(columns=columns_to_drop)"
   ]
  },
  {
   "cell_type": "code",
   "execution_count": null,
   "metadata": {
    "colab": {
     "base_uri": "https://localhost:8080/",
     "height": 289
    },
    "id": "1Fa-ION_9NLE",
    "outputId": "b5beec92-9024-4185-c119-10cd79afd412"
   },
   "outputs": [
    {
     "data": {
      "text/html": [
       "\n",
       "\n",
       "  <div id=\"df-754f189c-fa54-4264-b498-16119da06fd4\">\n",
       "    <div class=\"colab-df-container\">\n",
       "      <div>\n",
       "<style scoped>\n",
       "    .dataframe tbody tr th:only-of-type {\n",
       "        vertical-align: middle;\n",
       "    }\n",
       "\n",
       "    .dataframe tbody tr th {\n",
       "        vertical-align: top;\n",
       "    }\n",
       "\n",
       "    .dataframe thead th {\n",
       "        text-align: right;\n",
       "    }\n",
       "</style>\n",
       "<table border=\"1\" class=\"dataframe\">\n",
       "  <thead>\n",
       "    <tr style=\"text-align: right;\">\n",
       "      <th></th>\n",
       "      <th>bedrooms</th>\n",
       "      <th>room_type_Private room</th>\n",
       "      <th>neighbourhood_cleansed</th>\n",
       "      <th>number_of_reviews</th>\n",
       "      <th>availability_30</th>\n",
       "      <th>review_scores_cleanliness</th>\n",
       "      <th>day_of_week</th>\n",
       "      <th>accommodates</th>\n",
       "      <th>year</th>\n",
       "      <th>longitude</th>\n",
       "      <th>...</th>\n",
       "      <th>latitude</th>\n",
       "      <th>latitudesq</th>\n",
       "      <th>Free parking on premises</th>\n",
       "      <th>Microwave</th>\n",
       "      <th>Private entrance</th>\n",
       "      <th>Iron</th>\n",
       "      <th>Shampoo</th>\n",
       "      <th>minimum_maximum_nights</th>\n",
       "      <th>negative</th>\n",
       "      <th>Hair dryer</th>\n",
       "    </tr>\n",
       "  </thead>\n",
       "  <tbody>\n",
       "    <tr>\n",
       "      <th>0</th>\n",
       "      <td>1.0</td>\n",
       "      <td>0</td>\n",
       "      <td>1</td>\n",
       "      <td>630</td>\n",
       "      <td>4</td>\n",
       "      <td>4.85</td>\n",
       "      <td>1</td>\n",
       "      <td>3</td>\n",
       "      <td>0</td>\n",
       "      <td>-97.73441</td>\n",
       "      <td>...</td>\n",
       "      <td>30.26057</td>\n",
       "      <td>915.702097</td>\n",
       "      <td>0</td>\n",
       "      <td>1</td>\n",
       "      <td>1</td>\n",
       "      <td>1</td>\n",
       "      <td>1</td>\n",
       "      <td>90.0</td>\n",
       "      <td>0.0</td>\n",
       "      <td>1</td>\n",
       "    </tr>\n",
       "    <tr>\n",
       "      <th>1</th>\n",
       "      <td>1.0</td>\n",
       "      <td>0</td>\n",
       "      <td>1</td>\n",
       "      <td>630</td>\n",
       "      <td>4</td>\n",
       "      <td>4.85</td>\n",
       "      <td>1</td>\n",
       "      <td>3</td>\n",
       "      <td>0</td>\n",
       "      <td>-97.73441</td>\n",
       "      <td>...</td>\n",
       "      <td>30.26057</td>\n",
       "      <td>915.702097</td>\n",
       "      <td>0</td>\n",
       "      <td>1</td>\n",
       "      <td>1</td>\n",
       "      <td>1</td>\n",
       "      <td>1</td>\n",
       "      <td>90.0</td>\n",
       "      <td>0.0</td>\n",
       "      <td>1</td>\n",
       "    </tr>\n",
       "    <tr>\n",
       "      <th>2</th>\n",
       "      <td>1.0</td>\n",
       "      <td>0</td>\n",
       "      <td>1</td>\n",
       "      <td>630</td>\n",
       "      <td>4</td>\n",
       "      <td>4.85</td>\n",
       "      <td>3</td>\n",
       "      <td>3</td>\n",
       "      <td>0</td>\n",
       "      <td>-97.73441</td>\n",
       "      <td>...</td>\n",
       "      <td>30.26057</td>\n",
       "      <td>915.702097</td>\n",
       "      <td>0</td>\n",
       "      <td>1</td>\n",
       "      <td>1</td>\n",
       "      <td>1</td>\n",
       "      <td>1</td>\n",
       "      <td>90.0</td>\n",
       "      <td>0.0</td>\n",
       "      <td>1</td>\n",
       "    </tr>\n",
       "  </tbody>\n",
       "</table>\n",
       "<p>3 rows × 85 columns</p>\n",
       "</div>\n",
       "      <button class=\"colab-df-convert\" onclick=\"convertToInteractive('df-754f189c-fa54-4264-b498-16119da06fd4')\"\n",
       "              title=\"Convert this dataframe to an interactive table.\"\n",
       "              style=\"display:none;\">\n",
       "\n",
       "  <svg xmlns=\"http://www.w3.org/2000/svg\" height=\"24px\"viewBox=\"0 0 24 24\"\n",
       "       width=\"24px\">\n",
       "    <path d=\"M0 0h24v24H0V0z\" fill=\"none\"/>\n",
       "    <path d=\"M18.56 5.44l.94 2.06.94-2.06 2.06-.94-2.06-.94-.94-2.06-.94 2.06-2.06.94zm-11 1L8.5 8.5l.94-2.06 2.06-.94-2.06-.94L8.5 2.5l-.94 2.06-2.06.94zm10 10l.94 2.06.94-2.06 2.06-.94-2.06-.94-.94-2.06-.94 2.06-2.06.94z\"/><path d=\"M17.41 7.96l-1.37-1.37c-.4-.4-.92-.59-1.43-.59-.52 0-1.04.2-1.43.59L10.3 9.45l-7.72 7.72c-.78.78-.78 2.05 0 2.83L4 21.41c.39.39.9.59 1.41.59.51 0 1.02-.2 1.41-.59l7.78-7.78 2.81-2.81c.8-.78.8-2.07 0-2.86zM5.41 20L4 18.59l7.72-7.72 1.47 1.35L5.41 20z\"/>\n",
       "  </svg>\n",
       "      </button>\n",
       "\n",
       "\n",
       "\n",
       "    <div id=\"df-60a68473-0dc1-4f7d-b42c-7b3757f3b99e\">\n",
       "      <button class=\"colab-df-quickchart\" onclick=\"quickchart('df-60a68473-0dc1-4f7d-b42c-7b3757f3b99e')\"\n",
       "              title=\"Suggest charts.\"\n",
       "              style=\"display:none;\">\n",
       "\n",
       "<svg xmlns=\"http://www.w3.org/2000/svg\" height=\"24px\"viewBox=\"0 0 24 24\"\n",
       "     width=\"24px\">\n",
       "    <g>\n",
       "        <path d=\"M19 3H5c-1.1 0-2 .9-2 2v14c0 1.1.9 2 2 2h14c1.1 0 2-.9 2-2V5c0-1.1-.9-2-2-2zM9 17H7v-7h2v7zm4 0h-2V7h2v10zm4 0h-2v-4h2v4z\"/>\n",
       "    </g>\n",
       "</svg>\n",
       "      </button>\n",
       "    </div>\n",
       "\n",
       "<style>\n",
       "  .colab-df-quickchart {\n",
       "    background-color: #E8F0FE;\n",
       "    border: none;\n",
       "    border-radius: 50%;\n",
       "    cursor: pointer;\n",
       "    display: none;\n",
       "    fill: #1967D2;\n",
       "    height: 32px;\n",
       "    padding: 0 0 0 0;\n",
       "    width: 32px;\n",
       "  }\n",
       "\n",
       "  .colab-df-quickchart:hover {\n",
       "    background-color: #E2EBFA;\n",
       "    box-shadow: 0px 1px 2px rgba(60, 64, 67, 0.3), 0px 1px 3px 1px rgba(60, 64, 67, 0.15);\n",
       "    fill: #174EA6;\n",
       "  }\n",
       "\n",
       "  [theme=dark] .colab-df-quickchart {\n",
       "    background-color: #3B4455;\n",
       "    fill: #D2E3FC;\n",
       "  }\n",
       "\n",
       "  [theme=dark] .colab-df-quickchart:hover {\n",
       "    background-color: #434B5C;\n",
       "    box-shadow: 0px 1px 3px 1px rgba(0, 0, 0, 0.15);\n",
       "    filter: drop-shadow(0px 1px 2px rgba(0, 0, 0, 0.3));\n",
       "    fill: #FFFFFF;\n",
       "  }\n",
       "</style>\n",
       "\n",
       "    <script>\n",
       "      async function quickchart(key) {\n",
       "        const containerElement = document.querySelector('#' + key);\n",
       "        const charts = await google.colab.kernel.invokeFunction(\n",
       "            'suggestCharts', [key], {});\n",
       "      }\n",
       "    </script>\n",
       "\n",
       "      <script>\n",
       "\n",
       "function displayQuickchartButton(domScope) {\n",
       "  let quickchartButtonEl =\n",
       "    domScope.querySelector('#df-60a68473-0dc1-4f7d-b42c-7b3757f3b99e button.colab-df-quickchart');\n",
       "  quickchartButtonEl.style.display =\n",
       "    google.colab.kernel.accessAllowed ? 'block' : 'none';\n",
       "}\n",
       "\n",
       "        displayQuickchartButton(document);\n",
       "      </script>\n",
       "      <style>\n",
       "    .colab-df-container {\n",
       "      display:flex;\n",
       "      flex-wrap:wrap;\n",
       "      gap: 12px;\n",
       "    }\n",
       "\n",
       "    .colab-df-convert {\n",
       "      background-color: #E8F0FE;\n",
       "      border: none;\n",
       "      border-radius: 50%;\n",
       "      cursor: pointer;\n",
       "      display: none;\n",
       "      fill: #1967D2;\n",
       "      height: 32px;\n",
       "      padding: 0 0 0 0;\n",
       "      width: 32px;\n",
       "    }\n",
       "\n",
       "    .colab-df-convert:hover {\n",
       "      background-color: #E2EBFA;\n",
       "      box-shadow: 0px 1px 2px rgba(60, 64, 67, 0.3), 0px 1px 3px 1px rgba(60, 64, 67, 0.15);\n",
       "      fill: #174EA6;\n",
       "    }\n",
       "\n",
       "    [theme=dark] .colab-df-convert {\n",
       "      background-color: #3B4455;\n",
       "      fill: #D2E3FC;\n",
       "    }\n",
       "\n",
       "    [theme=dark] .colab-df-convert:hover {\n",
       "      background-color: #434B5C;\n",
       "      box-shadow: 0px 1px 3px 1px rgba(0, 0, 0, 0.15);\n",
       "      filter: drop-shadow(0px 1px 2px rgba(0, 0, 0, 0.3));\n",
       "      fill: #FFFFFF;\n",
       "    }\n",
       "  </style>\n",
       "\n",
       "      <script>\n",
       "        const buttonEl =\n",
       "          document.querySelector('#df-754f189c-fa54-4264-b498-16119da06fd4 button.colab-df-convert');\n",
       "        buttonEl.style.display =\n",
       "          google.colab.kernel.accessAllowed ? 'block' : 'none';\n",
       "\n",
       "        async function convertToInteractive(key) {\n",
       "          const element = document.querySelector('#df-754f189c-fa54-4264-b498-16119da06fd4');\n",
       "          const dataTable =\n",
       "            await google.colab.kernel.invokeFunction('convertToInteractive',\n",
       "                                                     [key], {});\n",
       "          if (!dataTable) return;\n",
       "\n",
       "          const docLinkHtml = 'Like what you see? Visit the ' +\n",
       "            '<a target=\"_blank\" href=https://colab.research.google.com/notebooks/data_table.ipynb>data table notebook</a>'\n",
       "            + ' to learn more about interactive tables.';\n",
       "          element.innerHTML = '';\n",
       "          dataTable['output_type'] = 'display_data';\n",
       "          await google.colab.output.renderOutput(dataTable, element);\n",
       "          const docLink = document.createElement('div');\n",
       "          docLink.innerHTML = docLinkHtml;\n",
       "          element.appendChild(docLink);\n",
       "        }\n",
       "      </script>\n",
       "    </div>\n",
       "  </div>\n"
      ],
      "text/plain": [
       "   bedrooms  room_type_Private room  neighbourhood_cleansed  \\\n",
       "0       1.0                       0                       1   \n",
       "1       1.0                       0                       1   \n",
       "2       1.0                       0                       1   \n",
       "\n",
       "   number_of_reviews  availability_30  review_scores_cleanliness  day_of_week  \\\n",
       "0                630                4                       4.85            1   \n",
       "1                630                4                       4.85            1   \n",
       "2                630                4                       4.85            3   \n",
       "\n",
       "   accommodates  year  longitude  ...  latitude  latitudesq  \\\n",
       "0             3     0  -97.73441  ...  30.26057  915.702097   \n",
       "1             3     0  -97.73441  ...  30.26057  915.702097   \n",
       "2             3     0  -97.73441  ...  30.26057  915.702097   \n",
       "\n",
       "   Free parking on premises  Microwave  Private entrance  Iron  Shampoo  \\\n",
       "0                         0          1                 1     1        1   \n",
       "1                         0          1                 1     1        1   \n",
       "2                         0          1                 1     1        1   \n",
       "\n",
       "   minimum_maximum_nights  negative  Hair dryer  \n",
       "0                    90.0       0.0           1  \n",
       "1                    90.0       0.0           1  \n",
       "2                    90.0       0.0           1  \n",
       "\n",
       "[3 rows x 85 columns]"
      ]
     },
     "execution_count": 19,
     "metadata": {},
     "output_type": "execute_result"
    }
   ],
   "source": [
    "df_filtered.head(3)"
   ]
  },
  {
   "cell_type": "code",
   "execution_count": null,
   "metadata": {
    "id": "WJh4Yyat5qHr"
   },
   "outputs": [],
   "source": [
    "# save the DataFrame to a CSV file\n",
    "output_file_path = 'path/to/save/filtered_data_name.csv'\n",
    "\n",
    "df_filtered.to_csv(output_file_path, index=False)"
   ]
  },
  {
   "cell_type": "code",
   "execution_count": null,
   "metadata": {
    "id": "eNUUL6te5qLj"
   },
   "outputs": [],
   "source": []
  },
  {
   "cell_type": "code",
   "execution_count": null,
   "metadata": {
    "id": "v7zgvHJ55qOg"
   },
   "outputs": [],
   "source": []
  }
 ],
 "metadata": {
  "colab": {
   "provenance": []
  },
  "kernelspec": {
   "display_name": "Python 3 (ipykernel)",
   "language": "python",
   "name": "python3"
  },
  "language_info": {
   "codemirror_mode": {
    "name": "ipython",
    "version": 3
   },
   "file_extension": ".py",
   "mimetype": "text/x-python",
   "name": "python",
   "nbconvert_exporter": "python",
   "pygments_lexer": "ipython3",
   "version": "3.10.6"
  }
 },
 "nbformat": 4,
 "nbformat_minor": 1
}
