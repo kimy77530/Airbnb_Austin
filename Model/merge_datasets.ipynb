{
  "nbformat": 4,
  "nbformat_minor": 0,
  "metadata": {
    "colab": {
      "provenance": [],
      "machine_shape": "hm"
    },
    "kernelspec": {
      "name": "python3",
      "display_name": "Python 3"
    },
    "language_info": {
      "name": "python"
    }
  },
  "cells": [
    {
      "cell_type": "code",
      "execution_count": 1,
      "metadata": {
        "id": "ZvAwu9ED4StH",
        "colab": {
          "base_uri": "https://localhost:8080/"
        },
        "outputId": "ff9d9bd0-51b8-48f8-f2ef-9147fd1f9e5d"
      },
      "outputs": [
        {
          "output_type": "stream",
          "name": "stdout",
          "text": [
            "Mounted at /content/drive\n"
          ]
        }
      ],
      "source": [
        "from google.colab import drive\n",
        "drive.mount('/content/drive')"
      ]
    },
    {
      "cell_type": "markdown",
      "source": [
        "This notebook contains the code and steps for merging the reviews dataset with the processed calendar dataset."
      ],
      "metadata": {
        "id": "20GLJ56no7hb"
      }
    },
    {
      "cell_type": "code",
      "source": [
        "import pandas as pd\n",
        "import numpy as np"
      ],
      "metadata": {
        "id": "Vy211efl4TEi"
      },
      "execution_count": 2,
      "outputs": []
    },
    {
      "cell_type": "code",
      "source": [
        "print(\"pandas version:\", pd.__version__)\n",
        "print(\"numpy version:\", np.__version__)"
      ],
      "metadata": {
        "id": "dou4EohY8K1h",
        "colab": {
          "base_uri": "https://localhost:8080/"
        },
        "outputId": "c8bbb807-a486-40ce-8475-a381ef272380"
      },
      "execution_count": 3,
      "outputs": [
        {
          "output_type": "stream",
          "name": "stdout",
          "text": [
            "pandas version: 1.5.3\n",
            "numpy version: 1.22.4\n"
          ]
        }
      ]
    },
    {
      "cell_type": "code",
      "source": [
        "# data path\n",
        "data_path = '[insert path to csv file here]'"
      ],
      "metadata": {
        "id": "_9ZgGvb74THQ"
      },
      "execution_count": 4,
      "outputs": []
    },
    {
      "cell_type": "code",
      "source": [
        "# Load datasets and turn \"date\" column as datetime object\n",
        "df_rev = pd.read_csv(data_path + \"processed_reviews.csv\", parse_dates=['date'])\n",
        "df_cal = pd.read_csv(data_path + \"processed_calendar.csv\", parse_dates=['date'])"
      ],
      "metadata": {
        "id": "PrOf4fJfsdtR"
      },
      "execution_count": 5,
      "outputs": []
    },
    {
      "cell_type": "markdown",
      "source": [
        "# Combine processed reviews data with calendar data"
      ],
      "metadata": {
        "id": "U0TT3sInwZcD"
      }
    },
    {
      "cell_type": "code",
      "source": [
        "# Extract month, year, and day of the week into separate columns for reviews df\n",
        "df_rev['month'] = df_rev['date'].dt.month\n",
        "df_rev['year'] = df_rev['date'].dt.year\n",
        "df_rev['day_of_week'] = df_rev['date'].dt.day_name()"
      ],
      "metadata": {
        "id": "jePE25h4FIsK"
      },
      "execution_count": 7,
      "outputs": []
    },
    {
      "cell_type": "code",
      "source": [
        "# Extract month, year, and day of the week into separate columns for calendar df\n",
        "df_cal['month'] = df_cal['date'].dt.month\n",
        "df_cal['year'] = df_cal['date'].dt.year\n",
        "df_cal['day_of_week'] = df_cal['date'].dt.day_name()"
      ],
      "metadata": {
        "id": "ibjWiIDwFZOC"
      },
      "execution_count": 8,
      "outputs": []
    },
    {
      "cell_type": "code",
      "source": [
        "# Merge the DataFrames based on the four similar columns\n",
        "merged_df = pd.merge(df_rev, df_cal, on=['month', 'year', 'day_of_week', 'listing_id'], how='inner')\n"
      ],
      "metadata": {
        "id": "w0q4NDKv2PF6"
      },
      "execution_count": 68,
      "outputs": []
    },
    {
      "cell_type": "code",
      "source": [
        "# Remove date_x column (this is the date column from reviews dataset)\n",
        "rev_cal_df = merged_df.drop('date_x', axis=1)"
      ],
      "metadata": {
        "id": "C7JG-hvUIodn"
      },
      "execution_count": 69,
      "outputs": []
    },
    {
      "cell_type": "code",
      "source": [
        "# Rename the column from 'date_y' to 'date' (this is the calendar 'date' column)\n",
        "rev_cal_df = rev_cal_df.rename(columns={'date_y': 'date'})"
      ],
      "metadata": {
        "id": "YNsMnCmAvgrN"
      },
      "execution_count": 70,
      "outputs": []
    },
    {
      "cell_type": "code",
      "source": [
        "# Convert \"day_of_week\" column to categorical\n",
        "rev_cal_df['day_of_week'] = rev_cal_df['day_of_week'].astype('category')\n",
        "\n",
        "# Convert \"year\" column to categorical\n",
        "rev_cal_df['year'] = rev_cal_df['year'].astype('category')\n",
        "\n",
        "# Convert \"month\" column to categorical\n",
        "rev_cal_df['month'] = rev_cal_df['month'].astype('category')\n",
        "\n"
      ],
      "metadata": {
        "id": "rA2MYZruJlop"
      },
      "execution_count": 71,
      "outputs": []
    },
    {
      "cell_type": "code",
      "source": [
        "# make a copy of merged review/calendar data\n",
        "revcal_copy = rev_cal_df.copy()"
      ],
      "metadata": {
        "id": "q1NTF0odUMi8"
      },
      "execution_count": 72,
      "outputs": []
    },
    {
      "cell_type": "markdown",
      "source": [
        "The dataframe 'final_df' will be used to merge into the listings data."
      ],
      "metadata": {
        "id": "muFlccQbv3C_"
      }
    },
    {
      "cell_type": "markdown",
      "source": [
        "# Combine the new review_calendar dataframe with the Listings data"
      ],
      "metadata": {
        "id": "TDbROwoQwYzx"
      }
    },
    {
      "cell_type": "code",
      "source": [
        "# Load in datasets\n",
        "listings_df = pd.read_csv(data_path + 'processed_listings.csv')"
      ],
      "metadata": {
        "id": "QDGzkOJCOJf4"
      },
      "execution_count": 48,
      "outputs": []
    },
    {
      "cell_type": "code",
      "source": [
        "# rename 'listing_id\" to \"id\" to match the column from listings_df\n",
        "revcal_copy = revcal_copy.rename(columns= {'listing_id' : 'id'})"
      ],
      "metadata": {
        "id": "KshhqKHNxWSv"
      },
      "execution_count": 73,
      "outputs": []
    },
    {
      "cell_type": "code",
      "source": [
        "# inner join, only the matching rows between the two dataframes\n",
        "# are included in the merged result, excluding any rows that don't have a match\n",
        "final_df = revcal_copy.merge(listings_df, on='id', how='inner')\n"
      ],
      "metadata": {
        "id": "6dFd6mGhwou_"
      },
      "execution_count": 74,
      "outputs": []
    },
    {
      "cell_type": "code",
      "source": [
        "# drop new added column 'Unnamed: 0'\n",
        "final_df = final_df.drop('Unnamed: 0', axis=1)\n"
      ],
      "metadata": {
        "id": "IbS-vF4ywoxp"
      },
      "execution_count": 75,
      "outputs": []
    },
    {
      "cell_type": "code",
      "source": [
        "# print total amount of null value\n",
        "print(\"Before:\", final_df.isnull().sum().sum())\n",
        "\n",
        "# Drop rows with null values\n",
        "final_df = final_df.dropna()\n",
        "\n",
        "# print total amount of null value\n",
        "print(\"After:\", final_df.isnull().sum().sum())"
      ],
      "metadata": {
        "colab": {
          "base_uri": "https://localhost:8080/"
        },
        "id": "qrgoOGGZwo0R",
        "outputId": "3180baa3-e5a5-4443-c603-1e28f5c22852"
      },
      "execution_count": 78,
      "outputs": [
        {
          "output_type": "stream",
          "name": "stdout",
          "text": [
            "Before: 25\n",
            "After: 0\n"
          ]
        }
      ]
    },
    {
      "cell_type": "code",
      "source": [
        "# save dataframe to system\n",
        "# final_df.to_csv(final_df.csv', index=False)"
      ],
      "metadata": {
        "id": "HKyJ8sevwo7s"
      },
      "execution_count": null,
      "outputs": []
    },
    {
      "cell_type": "code",
      "source": [],
      "metadata": {
        "id": "pw6CVmDGzOFn"
      },
      "execution_count": null,
      "outputs": []
    },
    {
      "cell_type": "markdown",
      "source": [
        "# Merge calendar and listing dataframes\n",
        "This dataset will not include any information from the reviews dataset"
      ],
      "metadata": {
        "id": "Ty-7l7ODOmqn"
      }
    },
    {
      "cell_type": "code",
      "source": [
        "# rename 'listing_id\" to \"id\" to match the column from listings_df\n",
        "df_cal = df_cal.rename(columns= {'listing_id' : 'id'})"
      ],
      "metadata": {
        "id": "75N_o0yXKDwv"
      },
      "execution_count": 80,
      "outputs": []
    },
    {
      "cell_type": "code",
      "source": [
        "# inner join, only the matching rows between the two dataframes\n",
        "# are included in the merged result, excluding any rows that don't have a match\n",
        "listing_cal_final = df_cal.merge(listings_df, on='id', how='inner')\n"
      ],
      "metadata": {
        "id": "yEwGtuOqOoLY"
      },
      "execution_count": 81,
      "outputs": []
    },
    {
      "cell_type": "code",
      "source": [
        "# check for missing values\n",
        "listing_cal_final.isnull().sum().sum()"
      ],
      "metadata": {
        "colab": {
          "base_uri": "https://localhost:8080/"
        },
        "id": "lsBmuFkFOoOJ",
        "outputId": "61f8a6b5-9403-4127-d1a8-1a41fe01336d"
      },
      "execution_count": 82,
      "outputs": [
        {
          "output_type": "execute_result",
          "data": {
            "text/plain": [
              "0"
            ]
          },
          "metadata": {},
          "execution_count": 82
        }
      ]
    },
    {
      "cell_type": "code",
      "source": [
        "# drop new added column 'Unnamed: 0'\n",
        "listing_cal_final = listing_cal_final.drop('Unnamed: 0', axis=1)\n"
      ],
      "metadata": {
        "id": "2ylRBe8OPxf_"
      },
      "execution_count": null,
      "outputs": []
    },
    {
      "cell_type": "code",
      "source": [
        "print(listing_cal_final.shape)\n",
        "listing_cal_final.head(5)"
      ],
      "metadata": {
        "colab": {
          "base_uri": "https://localhost:8080/",
          "height": 422
        },
        "id": "oTYNNcCMQoYv",
        "outputId": "5e2a5f4c-dc47-472a-a0ae-17e77f79c2d1"
      },
      "execution_count": 84,
      "outputs": [
        {
          "output_type": "stream",
          "name": "stdout",
          "text": [
            "(18105646, 91)\n"
          ]
        },
        {
          "output_type": "execute_result",
          "data": {
            "text/plain": [
              "     id       date  price  month  year day_of_week  host_id  \\\n",
              "0  5456 2022-06-09   95.0      6  2022    Thursday     8028   \n",
              "1  5456 2022-06-10  150.0      6  2022      Friday     8028   \n",
              "2  5456 2022-06-11  150.0      6  2022    Saturday     8028   \n",
              "3  5456 2022-06-12   95.0      6  2022      Sunday     8028   \n",
              "4  5456 2022-06-13   95.0      6  2022      Monday     8028   \n",
              "\n",
              "   host_is_superhost  host_listings_count  host_total_listings_count  ...  \\\n",
              "0                1.0                  2.0                        4.0  ...   \n",
              "1                1.0                  2.0                        4.0  ...   \n",
              "2                1.0                  2.0                        4.0  ...   \n",
              "3                1.0                  2.0                        4.0  ...   \n",
              "4                1.0                  2.0                        4.0  ...   \n",
              "\n",
              "   mex_arte  mckinney    umlauf   bonnell  museum_weird  \\\n",
              "0  1.068293   7.51835  3.078306  7.736014      0.842357   \n",
              "1  1.068293   7.51835  3.078306  7.736014      0.842357   \n",
              "2  1.068293   7.51835  3.078306  7.736014      0.842357   \n",
              "3  1.068293   7.51835  3.078306  7.736014      0.842357   \n",
              "4  1.068293   7.51835  3.078306  7.736014      0.842357   \n",
              "\n",
              "   review_scores_location  room_type_Hotel room  room_type_Private room  \\\n",
              "0                    4.73                     0                       0   \n",
              "1                    4.73                     0                       0   \n",
              "2                    4.73                     0                       0   \n",
              "3                    4.73                     0                       0   \n",
              "4                    4.73                     0                       0   \n",
              "\n",
              "   room_type_Shared room  semi_interpolated_reviews  \n",
              "0                      0                          0  \n",
              "1                      0                          0  \n",
              "2                      0                          0  \n",
              "3                      0                          0  \n",
              "4                      0                          0  \n",
              "\n",
              "[5 rows x 91 columns]"
            ],
            "text/html": [
              "\n",
              "\n",
              "  <div id=\"df-3c2fb679-d202-41eb-8eca-f445e6a2a6db\">\n",
              "    <div class=\"colab-df-container\">\n",
              "      <div>\n",
              "<style scoped>\n",
              "    .dataframe tbody tr th:only-of-type {\n",
              "        vertical-align: middle;\n",
              "    }\n",
              "\n",
              "    .dataframe tbody tr th {\n",
              "        vertical-align: top;\n",
              "    }\n",
              "\n",
              "    .dataframe thead th {\n",
              "        text-align: right;\n",
              "    }\n",
              "</style>\n",
              "<table border=\"1\" class=\"dataframe\">\n",
              "  <thead>\n",
              "    <tr style=\"text-align: right;\">\n",
              "      <th></th>\n",
              "      <th>id</th>\n",
              "      <th>date</th>\n",
              "      <th>price</th>\n",
              "      <th>month</th>\n",
              "      <th>year</th>\n",
              "      <th>day_of_week</th>\n",
              "      <th>host_id</th>\n",
              "      <th>host_is_superhost</th>\n",
              "      <th>host_listings_count</th>\n",
              "      <th>host_total_listings_count</th>\n",
              "      <th>...</th>\n",
              "      <th>mex_arte</th>\n",
              "      <th>mckinney</th>\n",
              "      <th>umlauf</th>\n",
              "      <th>bonnell</th>\n",
              "      <th>museum_weird</th>\n",
              "      <th>review_scores_location</th>\n",
              "      <th>room_type_Hotel room</th>\n",
              "      <th>room_type_Private room</th>\n",
              "      <th>room_type_Shared room</th>\n",
              "      <th>semi_interpolated_reviews</th>\n",
              "    </tr>\n",
              "  </thead>\n",
              "  <tbody>\n",
              "    <tr>\n",
              "      <th>0</th>\n",
              "      <td>5456</td>\n",
              "      <td>2022-06-09</td>\n",
              "      <td>95.0</td>\n",
              "      <td>6</td>\n",
              "      <td>2022</td>\n",
              "      <td>Thursday</td>\n",
              "      <td>8028</td>\n",
              "      <td>1.0</td>\n",
              "      <td>2.0</td>\n",
              "      <td>4.0</td>\n",
              "      <td>...</td>\n",
              "      <td>1.068293</td>\n",
              "      <td>7.51835</td>\n",
              "      <td>3.078306</td>\n",
              "      <td>7.736014</td>\n",
              "      <td>0.842357</td>\n",
              "      <td>4.73</td>\n",
              "      <td>0</td>\n",
              "      <td>0</td>\n",
              "      <td>0</td>\n",
              "      <td>0</td>\n",
              "    </tr>\n",
              "    <tr>\n",
              "      <th>1</th>\n",
              "      <td>5456</td>\n",
              "      <td>2022-06-10</td>\n",
              "      <td>150.0</td>\n",
              "      <td>6</td>\n",
              "      <td>2022</td>\n",
              "      <td>Friday</td>\n",
              "      <td>8028</td>\n",
              "      <td>1.0</td>\n",
              "      <td>2.0</td>\n",
              "      <td>4.0</td>\n",
              "      <td>...</td>\n",
              "      <td>1.068293</td>\n",
              "      <td>7.51835</td>\n",
              "      <td>3.078306</td>\n",
              "      <td>7.736014</td>\n",
              "      <td>0.842357</td>\n",
              "      <td>4.73</td>\n",
              "      <td>0</td>\n",
              "      <td>0</td>\n",
              "      <td>0</td>\n",
              "      <td>0</td>\n",
              "    </tr>\n",
              "    <tr>\n",
              "      <th>2</th>\n",
              "      <td>5456</td>\n",
              "      <td>2022-06-11</td>\n",
              "      <td>150.0</td>\n",
              "      <td>6</td>\n",
              "      <td>2022</td>\n",
              "      <td>Saturday</td>\n",
              "      <td>8028</td>\n",
              "      <td>1.0</td>\n",
              "      <td>2.0</td>\n",
              "      <td>4.0</td>\n",
              "      <td>...</td>\n",
              "      <td>1.068293</td>\n",
              "      <td>7.51835</td>\n",
              "      <td>3.078306</td>\n",
              "      <td>7.736014</td>\n",
              "      <td>0.842357</td>\n",
              "      <td>4.73</td>\n",
              "      <td>0</td>\n",
              "      <td>0</td>\n",
              "      <td>0</td>\n",
              "      <td>0</td>\n",
              "    </tr>\n",
              "    <tr>\n",
              "      <th>3</th>\n",
              "      <td>5456</td>\n",
              "      <td>2022-06-12</td>\n",
              "      <td>95.0</td>\n",
              "      <td>6</td>\n",
              "      <td>2022</td>\n",
              "      <td>Sunday</td>\n",
              "      <td>8028</td>\n",
              "      <td>1.0</td>\n",
              "      <td>2.0</td>\n",
              "      <td>4.0</td>\n",
              "      <td>...</td>\n",
              "      <td>1.068293</td>\n",
              "      <td>7.51835</td>\n",
              "      <td>3.078306</td>\n",
              "      <td>7.736014</td>\n",
              "      <td>0.842357</td>\n",
              "      <td>4.73</td>\n",
              "      <td>0</td>\n",
              "      <td>0</td>\n",
              "      <td>0</td>\n",
              "      <td>0</td>\n",
              "    </tr>\n",
              "    <tr>\n",
              "      <th>4</th>\n",
              "      <td>5456</td>\n",
              "      <td>2022-06-13</td>\n",
              "      <td>95.0</td>\n",
              "      <td>6</td>\n",
              "      <td>2022</td>\n",
              "      <td>Monday</td>\n",
              "      <td>8028</td>\n",
              "      <td>1.0</td>\n",
              "      <td>2.0</td>\n",
              "      <td>4.0</td>\n",
              "      <td>...</td>\n",
              "      <td>1.068293</td>\n",
              "      <td>7.51835</td>\n",
              "      <td>3.078306</td>\n",
              "      <td>7.736014</td>\n",
              "      <td>0.842357</td>\n",
              "      <td>4.73</td>\n",
              "      <td>0</td>\n",
              "      <td>0</td>\n",
              "      <td>0</td>\n",
              "      <td>0</td>\n",
              "    </tr>\n",
              "  </tbody>\n",
              "</table>\n",
              "<p>5 rows × 91 columns</p>\n",
              "</div>\n",
              "      <button class=\"colab-df-convert\" onclick=\"convertToInteractive('df-3c2fb679-d202-41eb-8eca-f445e6a2a6db')\"\n",
              "              title=\"Convert this dataframe to an interactive table.\"\n",
              "              style=\"display:none;\">\n",
              "\n",
              "  <svg xmlns=\"http://www.w3.org/2000/svg\" height=\"24px\"viewBox=\"0 0 24 24\"\n",
              "       width=\"24px\">\n",
              "    <path d=\"M0 0h24v24H0V0z\" fill=\"none\"/>\n",
              "    <path d=\"M18.56 5.44l.94 2.06.94-2.06 2.06-.94-2.06-.94-.94-2.06-.94 2.06-2.06.94zm-11 1L8.5 8.5l.94-2.06 2.06-.94-2.06-.94L8.5 2.5l-.94 2.06-2.06.94zm10 10l.94 2.06.94-2.06 2.06-.94-2.06-.94-.94-2.06-.94 2.06-2.06.94z\"/><path d=\"M17.41 7.96l-1.37-1.37c-.4-.4-.92-.59-1.43-.59-.52 0-1.04.2-1.43.59L10.3 9.45l-7.72 7.72c-.78.78-.78 2.05 0 2.83L4 21.41c.39.39.9.59 1.41.59.51 0 1.02-.2 1.41-.59l7.78-7.78 2.81-2.81c.8-.78.8-2.07 0-2.86zM5.41 20L4 18.59l7.72-7.72 1.47 1.35L5.41 20z\"/>\n",
              "  </svg>\n",
              "      </button>\n",
              "\n",
              "\n",
              "\n",
              "    <div id=\"df-c44fd868-8845-4491-b150-d83f6336613f\">\n",
              "      <button class=\"colab-df-quickchart\" onclick=\"quickchart('df-c44fd868-8845-4491-b150-d83f6336613f')\"\n",
              "              title=\"Suggest charts.\"\n",
              "              style=\"display:none;\">\n",
              "\n",
              "<svg xmlns=\"http://www.w3.org/2000/svg\" height=\"24px\"viewBox=\"0 0 24 24\"\n",
              "     width=\"24px\">\n",
              "    <g>\n",
              "        <path d=\"M19 3H5c-1.1 0-2 .9-2 2v14c0 1.1.9 2 2 2h14c1.1 0 2-.9 2-2V5c0-1.1-.9-2-2-2zM9 17H7v-7h2v7zm4 0h-2V7h2v10zm4 0h-2v-4h2v4z\"/>\n",
              "    </g>\n",
              "</svg>\n",
              "      </button>\n",
              "    </div>\n",
              "\n",
              "<style>\n",
              "  .colab-df-quickchart {\n",
              "    background-color: #E8F0FE;\n",
              "    border: none;\n",
              "    border-radius: 50%;\n",
              "    cursor: pointer;\n",
              "    display: none;\n",
              "    fill: #1967D2;\n",
              "    height: 32px;\n",
              "    padding: 0 0 0 0;\n",
              "    width: 32px;\n",
              "  }\n",
              "\n",
              "  .colab-df-quickchart:hover {\n",
              "    background-color: #E2EBFA;\n",
              "    box-shadow: 0px 1px 2px rgba(60, 64, 67, 0.3), 0px 1px 3px 1px rgba(60, 64, 67, 0.15);\n",
              "    fill: #174EA6;\n",
              "  }\n",
              "\n",
              "  [theme=dark] .colab-df-quickchart {\n",
              "    background-color: #3B4455;\n",
              "    fill: #D2E3FC;\n",
              "  }\n",
              "\n",
              "  [theme=dark] .colab-df-quickchart:hover {\n",
              "    background-color: #434B5C;\n",
              "    box-shadow: 0px 1px 3px 1px rgba(0, 0, 0, 0.15);\n",
              "    filter: drop-shadow(0px 1px 2px rgba(0, 0, 0, 0.3));\n",
              "    fill: #FFFFFF;\n",
              "  }\n",
              "</style>\n",
              "\n",
              "    <script>\n",
              "      async function quickchart(key) {\n",
              "        const containerElement = document.querySelector('#' + key);\n",
              "        const charts = await google.colab.kernel.invokeFunction(\n",
              "            'suggestCharts', [key], {});\n",
              "      }\n",
              "    </script>\n",
              "\n",
              "      <script>\n",
              "\n",
              "function displayQuickchartButton(domScope) {\n",
              "  let quickchartButtonEl =\n",
              "    domScope.querySelector('#df-c44fd868-8845-4491-b150-d83f6336613f button.colab-df-quickchart');\n",
              "  quickchartButtonEl.style.display =\n",
              "    google.colab.kernel.accessAllowed ? 'block' : 'none';\n",
              "}\n",
              "\n",
              "        displayQuickchartButton(document);\n",
              "      </script>\n",
              "      <style>\n",
              "    .colab-df-container {\n",
              "      display:flex;\n",
              "      flex-wrap:wrap;\n",
              "      gap: 12px;\n",
              "    }\n",
              "\n",
              "    .colab-df-convert {\n",
              "      background-color: #E8F0FE;\n",
              "      border: none;\n",
              "      border-radius: 50%;\n",
              "      cursor: pointer;\n",
              "      display: none;\n",
              "      fill: #1967D2;\n",
              "      height: 32px;\n",
              "      padding: 0 0 0 0;\n",
              "      width: 32px;\n",
              "    }\n",
              "\n",
              "    .colab-df-convert:hover {\n",
              "      background-color: #E2EBFA;\n",
              "      box-shadow: 0px 1px 2px rgba(60, 64, 67, 0.3), 0px 1px 3px 1px rgba(60, 64, 67, 0.15);\n",
              "      fill: #174EA6;\n",
              "    }\n",
              "\n",
              "    [theme=dark] .colab-df-convert {\n",
              "      background-color: #3B4455;\n",
              "      fill: #D2E3FC;\n",
              "    }\n",
              "\n",
              "    [theme=dark] .colab-df-convert:hover {\n",
              "      background-color: #434B5C;\n",
              "      box-shadow: 0px 1px 3px 1px rgba(0, 0, 0, 0.15);\n",
              "      filter: drop-shadow(0px 1px 2px rgba(0, 0, 0, 0.3));\n",
              "      fill: #FFFFFF;\n",
              "    }\n",
              "  </style>\n",
              "\n",
              "      <script>\n",
              "        const buttonEl =\n",
              "          document.querySelector('#df-3c2fb679-d202-41eb-8eca-f445e6a2a6db button.colab-df-convert');\n",
              "        buttonEl.style.display =\n",
              "          google.colab.kernel.accessAllowed ? 'block' : 'none';\n",
              "\n",
              "        async function convertToInteractive(key) {\n",
              "          const element = document.querySelector('#df-3c2fb679-d202-41eb-8eca-f445e6a2a6db');\n",
              "          const dataTable =\n",
              "            await google.colab.kernel.invokeFunction('convertToInteractive',\n",
              "                                                     [key], {});\n",
              "          if (!dataTable) return;\n",
              "\n",
              "          const docLinkHtml = 'Like what you see? Visit the ' +\n",
              "            '<a target=\"_blank\" href=https://colab.research.google.com/notebooks/data_table.ipynb>data table notebook</a>'\n",
              "            + ' to learn more about interactive tables.';\n",
              "          element.innerHTML = '';\n",
              "          dataTable['output_type'] = 'display_data';\n",
              "          await google.colab.output.renderOutput(dataTable, element);\n",
              "          const docLink = document.createElement('div');\n",
              "          docLink.innerHTML = docLinkHtml;\n",
              "          element.appendChild(docLink);\n",
              "        }\n",
              "      </script>\n",
              "    </div>\n",
              "  </div>\n"
            ]
          },
          "metadata": {},
          "execution_count": 84
        }
      ]
    },
    {
      "cell_type": "code",
      "source": [
        "# Convert columns to a categorical variable\n",
        "categorical_features = ['day_of_week','year', 'id', 'host_id', 'neighbourhood_cleansed']\n",
        "listing_cal_final[categorical_features] = listing_cal_final[categorical_features].astype('category')"
      ],
      "metadata": {
        "id": "aaWKJceJsJmm"
      },
      "execution_count": 89,
      "outputs": []
    },
    {
      "cell_type": "code",
      "source": [
        "# save to csv file\n",
        "# listing_cal_final.to_csv(data_path + 'df_no_reviews.csv', index=False)"
      ],
      "metadata": {
        "id": "29DmKYBjPxgH"
      },
      "execution_count": null,
      "outputs": []
    }
  ]
}